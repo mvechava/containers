{
 "cells": [
  {
   "cell_type": "markdown",
   "metadata": {},
   "source": [
    "## _*Quantum Battleships with partial NOT gates*_\n",
    "\n",
    "The latest version of this notebook is available on https://github.com/QISKit/qiskit-tutorial.\n",
    "\n",
    "***\n",
    "### Contributors\n",
    "James R. Wootton, University of Basel\n",
    "***"
   ]
  },
  {
   "cell_type": "markdown",
   "metadata": {},
   "source": [
    "This program aims to act as an introduction to qubits, and to show how single qubit operations can be used. Specifically, we'll use them to implement a game.\n",
    "\n",
    "The game is based on the Japanese version of 'Battleships'. In this, each ship takes up only a single location. \n",
    "\n",
    "Each player will place three ships in the following five possible locations, which correspond to the five qubits of the ibmqx2 chip.\n",
    "\n",
    "<pre>\n",
    "                                                4       0\n",
    "                                                |\\     /|\n",
    "                                                | \\   / |\n",
    "                                                |  \\ /  |\n",
    "                                                |   2   |\n",
    "                                                |  / \\  |\n",
    "                                                | /   \\ |\n",
    "                                                |/     \\|\n",
    "                                                3       1\n",
    "</pre>     \n",
    "\n",
    "The players then fire bombs at each other's grids until one loses all their ships.\n",
    "\n",
    "The first ship placed by each player takes 1 bomb to destroy. The second ship takes 2, and the third takes 3.\n",
    "\n",
    "The game mechanic is realized on a quantum computer by using a qubit for each ship, and using partial NOT gates (rotations around the X axis) as the bombs. A full NOT is applied when the right number of bombs have hit a given ship, rotating the qubit/ship from 0 (undamaged) to 1 (destroyed).\n",
    "\n",
    "Some details on implementation can be found in the Markdown cells. A full tutorial for how to program the game can be found at\n",
    "\n",
    "https://medium.com/@decodoku/how-to-program-a-quantum-computer-982a9329ed02\n",
    "\n",
    "If you using the real device, here is a simple description of the game that you can read while it runs.\n",
    "\n",
    "https://medium.com/@decodoku/quantum-computation-in-84-short-lines-d9c7c74be0d0\n",
    "\n",
    "If you just want to play, then select 'Restart & Run All' from the Kernel menu.\n",
    "<br>\n",
    "<br>\n",
    "<br>\n",
    "<br>"
   ]
  },
  {
   "cell_type": "markdown",
   "metadata": {},
   "source": [
    "First we set up things required to run things using QISKit, and on the Quantum Experience.\n",
    "\n",
    "Set up intructions can be found [here](https://github.com/IBM/qiskit-sdk-py/blob/master/tutorial/sections/tutorial4developer.ipynb)."
   ]
  },
  {
   "cell_type": "code",
   "execution_count": 1,
   "metadata": {
    "collapsed": false
   },
   "outputs": [],
   "source": [
    "# Checking the version of PYTHON; we only support > 3.5\n",
    "import sys\n",
    "if sys.version_info < (3,5):\n",
    "    raise Exception('Please use Python version 3.5 or greater.')\n",
    "    \n",
    "from qiskit import QuantumProgram\n",
    "import Qconfig"
   ]
  },
  {
   "cell_type": "markdown",
   "metadata": {},
   "source": [
    "Next we import a few standard things."
   ]
  },
  {
   "cell_type": "code",
   "execution_count": 2,
   "metadata": {
    "collapsed": true
   },
   "outputs": [],
   "source": [
    "import getpass, random, numpy, math"
   ]
  },
  {
   "cell_type": "markdown",
   "metadata": {},
   "source": [
    "Now it's time for a title screen."
   ]
  },
  {
   "cell_type": "code",
   "execution_count": 3,
   "metadata": {
    "collapsed": false
   },
   "outputs": [
    {
     "name": "stdout",
     "output_type": "stream",
     "text": [
      "\n",
      "\n",
      "\n",
      "\n",
      "\n",
      "\n",
      "\n",
      "\n",
      "\n",
      "            ██████╗ ██╗   ██╗ █████╗ ███╗   ██╗████████╗██╗   ██╗███╗   ███╗            \n",
      "           ██╔═══██╗██║   ██║██╔══██╗████╗  ██║╚══██╔══╝██║   ██║████╗ ████║            \n",
      "           ██║   ██║██║   ██║███████║██╔██╗ ██║   ██║   ██║   ██║██╔████╔██║            \n",
      "           ██║▄▄ ██║██║   ██║██╔══██║██║╚██╗██║   ██║   ██║   ██║██║╚██╔╝██║            \n",
      "           ╚██████╔╝╚██████╔╝██║  ██║██║ ╚████║   ██║   ╚██████╔╝██║ ╚═╝ ██║            \n",
      "            ╚══▀▀═╝  ╚═════╝ ╚═╝  ╚═╝╚═╝  ╚═══╝   ╚═╝    ╚═════╝ ╚═╝     ╚═╝            \n",
      "\n",
      "   ██████╗  █████╗ ████████╗████████╗██╗     ███████╗███████╗██╗  ██╗██╗██████╗ ███████╗\n",
      "   ██╔══██╗██╔══██╗╚══██╔══╝╚══██╔══╝██║     ██╔════╝██╔════╝██║  ██║██║██╔══██╗██╔════╝\n",
      "   ██████╔╝███████║   ██║      ██║   ██║     █████╗  ███████╗███████║██║██████╔╝███████╗\n",
      "   ██╔══██╗██╔══██║   ██║      ██║   ██║     ██╔══╝  ╚════██║██╔══██║██║██╔═══╝ ╚════██║\n",
      "   ██████╔╝██║  ██║   ██║      ██║   ███████╗███████╗███████║██║  ██║██║██║     ███████║\n",
      "   ╚═════╝ ╚═╝  ╚═╝   ╚═╝      ╚═╝   ╚══════╝╚══════╝╚══════╝╚═╝  ╚═╝╚═╝╚═╝     ╚══════╝\n",
      "\n",
      "                 ___         ___                    _       _         \n",
      "                | _ ) _  _  |   \\  ___  __  ___  __| | ___ | |__ _  _ \n",
      "                | _ \\| || | | |) |/ -_)/ _|/ _ \\/ _` |/ _ \\| / /| || |\n",
      "                |___/ \\_, | |___/ \\___|\\__|\\___/\\__,_|\\___/|_\\_\\ \\_,_|\n",
      "                      |__/                                            \n",
      "                           James Wootton, University of Basel\n",
      "\n",
      "                        A game played on a real quantum computer!\n",
      "\n",
      "         Learn how to make your own game for a quantum computer at decodoku.com\n",
      "\n",
      "\n",
      "> Press Enter to start placing ships...\n",
      "\n"
     ]
    }
   ],
   "source": [
    "print(\"\\n\\n\\n\\n\\n\\n\\n\\n\")\n",
    "print(\"            ██████╗ ██╗   ██╗ █████╗ ███╗   ██╗████████╗██╗   ██╗███╗   ███╗            \")\n",
    "print(\"           ██╔═══██╗██║   ██║██╔══██╗████╗  ██║╚══██╔══╝██║   ██║████╗ ████║            \")\n",
    "print(\"           ██║   ██║██║   ██║███████║██╔██╗ ██║   ██║   ██║   ██║██╔████╔██║            \")\n",
    "print(\"           ██║▄▄ ██║██║   ██║██╔══██║██║╚██╗██║   ██║   ██║   ██║██║╚██╔╝██║            \")\n",
    "print(\"           ╚██████╔╝╚██████╔╝██║  ██║██║ ╚████║   ██║   ╚██████╔╝██║ ╚═╝ ██║            \")\n",
    "print(\"            ╚══▀▀═╝  ╚═════╝ ╚═╝  ╚═╝╚═╝  ╚═══╝   ╚═╝    ╚═════╝ ╚═╝     ╚═╝            \")\n",
    "print(\"\")\n",
    "print(\"   ██████╗  █████╗ ████████╗████████╗██╗     ███████╗███████╗██╗  ██╗██╗██████╗ ███████╗\")\n",
    "print(\"   ██╔══██╗██╔══██╗╚══██╔══╝╚══██╔══╝██║     ██╔════╝██╔════╝██║  ██║██║██╔══██╗██╔════╝\")\n",
    "print(\"   ██████╔╝███████║   ██║      ██║   ██║     █████╗  ███████╗███████║██║██████╔╝███████╗\")\n",
    "print(\"   ██╔══██╗██╔══██║   ██║      ██║   ██║     ██╔══╝  ╚════██║██╔══██║██║██╔═══╝ ╚════██║\")\n",
    "print(\"   ██████╔╝██║  ██║   ██║      ██║   ███████╗███████╗███████║██║  ██║██║██║     ███████║\")\n",
    "print(\"   ╚═════╝ ╚═╝  ╚═╝   ╚═╝      ╚═╝   ╚══════╝╚══════╝╚══════╝╚═╝  ╚═╝╚═╝╚═╝     ╚══════╝\")\n",
    "print(\"\")\n",
    "print(\"                 ___         ___                    _       _         \")\n",
    "print(\"                | _ ) _  _  |   \\  ___  __  ___  __| | ___ | |__ _  _ \")\n",
    "print(\"                | _ \\| || | | |) |/ -_)/ _|/ _ \\/ _` |/ _ \\| / /| || |\")\n",
    "print(\"                |___/ \\_, | |___/ \\___|\\__|\\___/\\__,_|\\___/|_\\_\\ \\_,_|\")\n",
    "print(\"                      |__/                                            \")\n",
    "print(\"                           James Wootton, University of Basel\")\n",
    "print(\"\")\n",
    "print(\"                        A game played on a real quantum computer!\")\n",
    "print(\"\")\n",
    "print(\"         Learn how to make your own game for a quantum computer at decodoku.com\")\n",
    "print(\"\")\n",
    "print(\"\")\n",
    "randPlace = input(\"> Press Enter to start placing ships...\\n\").upper()"
   ]
  },
  {
   "cell_type": "markdown",
   "metadata": {},
   "source": [
    "The player is now asked to choose whether to run on the real device. The real device is awesome, of course, but you'll need to queue behind other people sampling its awesomeness. Any answer but *y* will simulate everything on your own (non-quantum) device."
   ]
  },
  {
   "cell_type": "code",
   "execution_count": 4,
   "metadata": {
    "collapsed": false
   },
   "outputs": [
    {
     "name": "stdout",
     "output_type": "stream",
     "text": [
      "Do you want to play on the real device? (y/n)\n",
      "y\n"
     ]
    }
   ],
   "source": [
    "d = input(\"Do you want to play on the real device? (y/n)\\n\").upper()\n",
    "if (d==\"Y\"):\n",
    "    device = 'ibmqx2'\n",
    "else:\n",
    "    device = 'local_qasm_simulator'\n",
    "# note that device should be 'ibmqx_qasm_simulator', 'ibmqx2' or 'local_qasm_simulator'\n",
    "# while we are at it, let's set the number of shots\n",
    "shots = 1024"
   ]
  },
  {
   "cell_type": "markdown",
   "metadata": {},
   "source": [
    "It's good to break up games with a few 'Press Enter to continue...' type commands.\n",
    "\n",
    "Here's the first, but it hides a secret! If you press r instead, the ships for both players will be randomly chosen."
   ]
  },
  {
   "cell_type": "code",
   "execution_count": 5,
   "metadata": {
    "collapsed": false
   },
   "outputs": [
    {
     "name": "stdout",
     "output_type": "stream",
     "text": [
      "> Press Enter to start placing ships...\n",
      "\n"
     ]
    }
   ],
   "source": [
    "randPlace = input(\"> Press Enter to start placing ships...\\n\").upper()"
   ]
  },
  {
   "cell_type": "markdown",
   "metadata": {},
   "source": [
    "The first step in the game is to get the players to set up their boards. Player 1 will be asked to give positions for three ships. Their inputs will be kept secret. Then the same for player 2."
   ]
  },
  {
   "cell_type": "code",
   "execution_count": null,
   "metadata": {
    "collapsed": false
   },
   "outputs": [
    {
     "name": "stdout",
     "output_type": "stream",
     "text": [
      "Player 1, choose a position for ship 1 (0, 1, 2, 3 or 4)\n",
      "········\n",
      "\n",
      "\n",
      "Player 1, choose a position for ship 2 (0, 1, 2, 3 or 4)\n",
      "········\n",
      "\n",
      "\n",
      "Player 1, choose a position for ship 3 (0, 1, 2, 3 or 4)\n",
      "········\n",
      "\n",
      "\n",
      "Player 2, choose a position for ship 1 (0, 1, 2, 3 or 4)\n",
      "········\n",
      "\n",
      "\n",
      "Player 2, choose a position for ship 2 (0, 1, 2, 3 or 4)\n",
      "········\n",
      "\n",
      "\n",
      "Player 2, choose a position for ship 3 (0, 1, 2, 3 or 4)\n",
      "········\n",
      "\n",
      "\n"
     ]
    }
   ],
   "source": [
    "# The variable ship[X][Y] will hold the position of the Yth ship of player X+1\n",
    "shipPos = [ [-1]*3 for _ in range(2)] # all values are initialized to the impossible position -1|\n",
    "\n",
    "# loop over both players and all three ships for each\n",
    "for player in [0,1]:\n",
    "    \n",
    "    # if we chose to bypass player choice and do random, we do that\n",
    "    if ((randPlace==\"r\")|(randPlace==\"R\")):\n",
    "        randPos = random.sample(range(5), 3)\n",
    "        for ship in [0,1,2]:\n",
    "            shipPos[player][ship] = randPos[ship]\n",
    "        #print(randPos) #uncomment if you want a sneaky peak at where the ships are\n",
    "    else:\n",
    "        for ship in [0,1,2]:\n",
    "\n",
    "            # ask for a position for each ship, and keep asking until a valid answer is given\n",
    "            choosing = True\n",
    "            while (choosing):\n",
    "\n",
    "                # get player input\n",
    "                position = getpass.getpass(\"Player \" + str(player+1) + \", choose a position for ship \" + str(ship+1) + \" (0, 1, 2, 3 or 4)\\n\" )\n",
    "\n",
    "                # see if the valid input and ask for another if not\n",
    "                if position.isdigit(): # valid answers  have to be integers\n",
    "                    position = int(position)\n",
    "                    if (position in [0,1,2,3,4]) and (not position in shipPos[player]): # they need to be between 0 and 5, and not used for another ship of the same player\n",
    "                        shipPos[player][ship] = position\n",
    "                        choosing = False\n",
    "                        print (\"\\n\")\n",
    "                    elif position in shipPos[player]:\n",
    "                        print(\"\\nYou already have a ship there. Try again.\\n\")\n",
    "                    else:\n",
    "                        print(\"\\nThat's not a valid position. Try again.\\n\")\n",
    "                else:\n",
    "                    print(\"\\nThat's not a valid position. Try again.\\n\")"
   ]
  },
  {
   "cell_type": "markdown",
   "metadata": {},
   "source": [
    "The heart of every game is the main loop. For this game, each interation starts by asking players where on the opposing grid they want to bomb. The quantum computer then calculates the effects of the bombing, and the results are presented to the players. The game continues until all the ships of one player are destroyed."
   ]
  },
  {
   "cell_type": "code",
   "execution_count": null,
   "metadata": {
    "collapsed": false
   },
   "outputs": [
    {
     "name": "stdout",
     "output_type": "stream",
     "text": [
      "> Press Enter to place some bombs...\n",
      "\n",
      "\n",
      "\n",
      "It's now Player 1's turn.\n",
      "\n",
      "Choose a position to bomb (0, 1, 2, 3 or 4)\n",
      "2\n",
      "\n",
      "\n",
      "\n",
      "\n",
      "It's now Player 2's turn.\n",
      "\n",
      "Choose a position to bomb (0, 1, 2, 3 or 4)\n",
      "2\n",
      "\n",
      "\n",
      "\n",
      "We'll now get the quantum computer to see what happens to Player 1's ships.\n",
      "\n",
      "running on backend: ibmqx2\n",
      "status = RUNNING (5 seconds)\n",
      "status = RUNNING (10 seconds)\n",
      "status = RUNNING (15 seconds)\n",
      "status = RUNNING (20 seconds)\n",
      "status = RUNNING (25 seconds)\n",
      "status = RUNNING (30 seconds)\n",
      "status = RUNNING (35 seconds)\n",
      "status = RUNNING (40 seconds)\n",
      "\n",
      "We'll now get the quantum computer to see what happens to Player 2's ships.\n",
      "\n",
      "running on backend: ibmqx2\n",
      "status = RUNNING (5 seconds)\n",
      "status = RUNNING (10 seconds)\n",
      "status = RUNNING (15 seconds)\n",
      "status = RUNNING (20 seconds)\n",
      "status = RUNNING (25 seconds)\n",
      "status = RUNNING (30 seconds)\n",
      "status = RUNNING (35 seconds)\n",
      "status = RUNNING (40 seconds)\n",
      "\n",
      "Press Enter to see the results for Player 1's ships...\n",
      "\n",
      "Here is the percentage damage for ships that have been bombed.\n",
      "\n",
      " ?       ?  \n",
      " |\\     /|\n",
      " | \\   / |\n",
      " |  \\ /  |\n",
      " |  25%  |\n",
      " |  / \\  |\n",
      " | /   \\ |\n",
      " |/     \\|\n",
      " ?       ?  \n",
      "\n",
      "\n",
      "Ships with 95% damage or more have been destroyed\n",
      "\n",
      "\n",
      "\n",
      "\n",
      "Press Enter to see the results for Player 2's ships...\n",
      "\n",
      "Here is the percentage damage for ships that have been bombed.\n",
      "\n",
      " ?       ?  \n",
      " |\\     /|\n",
      " | \\   / |\n",
      " |  \\ /  |\n",
      " |  100% |\n",
      " |  / \\  |\n",
      " | /   \\ |\n",
      " |/     \\|\n",
      " ?       ?  \n",
      "\n",
      "\n",
      "Ships with 95% damage or more have been destroyed\n",
      "\n",
      "\n",
      "\n"
     ]
    }
   ],
   "source": [
    "# the game variable will be set to False once the game is over\n",
    "game = True\n",
    "\n",
    "# the variable bombs[X][Y] will hold the number of times position Y has been bombed by player X+1\n",
    "bomb = [ [0]*5 for _ in range(2)] # all values are initialized to zero\n",
    "\n",
    "# the variable grid[player] will hold the results for the grid of each player\n",
    "grid = [{},{}]\n",
    "\n",
    "while (game):\n",
    "    \n",
    "    input(\"> Press Enter to place some bombs...\\n\")\n",
    "    \n",
    "    # ask both players where they want to bomb\n",
    "    for player in range(2):\n",
    "    \n",
    "        print(\"\\n\\nIt's now Player \" + str(player+1) + \"'s turn.\\n\")\n",
    "\n",
    "        # keep asking until a valid answer is given\n",
    "        choosing = True\n",
    "        while (choosing):\n",
    "\n",
    "            # get player input\n",
    "            position = input(\"Choose a position to bomb (0, 1, 2, 3 or 4)\\n\")\n",
    "\n",
    "            # see if this is a valid input. ask for another if not\n",
    "            if position.isdigit(): # valid answers  have to be integers\n",
    "                position = int(position)\n",
    "                if position in range(5): # they need to be between 0 and 5, and not used for another ship of the same player\n",
    "                    bomb[player][position] = bomb[player][position] + 1\n",
    "                    choosing = False\n",
    "                    print (\"\\n\")\n",
    "                else:\n",
    "                    print(\"\\nThat's not a valid position. Try again.\\n\")\n",
    "            else:\n",
    "                print(\"\\nThat's not a valid position. Try again.\\n\")\n",
    "    \n",
    "    \n",
    "    # now we create and run the quantum programs that implement this on the grid for each player\n",
    "    for player in range(2):\n",
    "    \n",
    "\n",
    "        if device=='ibmqx2':\n",
    "            print(\"\\nWe'll now get the quantum computer to see what happens to Player \" + str(player+1) + \"'s ships.\\n\")\n",
    "        else:\n",
    "            print(\"\\nWe'll now get the simulator to see what happens to Player \" + str(player+1) + \"'s ships.\\n\")\n",
    "        \n",
    "        # now to set up the quantum program (QASM) to simulate the grid for this player\n",
    "        \n",
    "        Q_program = QuantumProgram()\n",
    "        Q_program.set_api(Qconfig.APItoken, Qconfig.config[\"url\"]) # set the APIToken and API url\n",
    "        # declare register of 5 qubits\n",
    "        q = Q_program.create_quantum_register(\"q\", 5)\n",
    "        # declare register of 5 classical bits to hold measurement results\n",
    "        c = Q_program.create_classical_register(\"c\", 5)\n",
    "        # create circuit\n",
    "        gridScript = Q_program.create_circuit(\"gridScript\", [q], [c])    \n",
    "        \n",
    "        # add the bombs (of the opposing player)\n",
    "        for position in range(5):\n",
    "            # add as many bombs as have been placed at this position\n",
    "            for n in range( bomb[(player+1)%2][position] ):\n",
    "                # the effectiveness of the bomb\n",
    "                # (which means the quantum operation we apply)\n",
    "                # depends on which ship it is\n",
    "                for ship in [0,1,2]:\n",
    "                    if ( position == shipPos[player][ship] ):\n",
    "                        frac = 1/(ship+1)\n",
    "                        # add this fraction of a NOT to the QASM\n",
    "                        gridScript.u3(frac * math.pi, 0.0, 0.0, q[position])\n",
    "                                        \n",
    "        #finally, measure them\n",
    "        for position in range(5):\n",
    "            gridScript.measure(q[position], c[position])\n",
    "            \n",
    "        # to see what the quantum computer is asked to do, we can print the QASM file\n",
    "        # this lines is typically commented out\n",
    "        #print( Q_program.get_qasm(\"gridScript\") )\n",
    "        \n",
    "        # compile and run the QASM\n",
    "        results = Q_program.execute([\"gridScript\"], backend=device, shots=shots)\n",
    "\n",
    "        # extract data\n",
    "        grid[player] = results.get_counts(\"gridScript\")\n",
    "    \n",
    "    # we can check up on the data if we want\n",
    "    # these lines are typically commented out\n",
    "    #print( grid[0] )\n",
    "    #print( grid[1] )\n",
    "    \n",
    "    # if one of the runs failed, tell the players and start the round again\n",
    "    if ( ( 'Error' in grid[0].values() ) or ( 'Error' in grid[1].values() ) ):\n",
    "\n",
    "        print(\"\\nThe process timed out. Try this round again.\\n\")\n",
    "        \n",
    "    else:\n",
    "        \n",
    "        # look at the damage on all qubits (we'll even do ones with no ships)\n",
    "        damage = [ [0]*5 for _ in range(2)] # this will hold the prob of a 1 for each qubit for each player\n",
    "        \n",
    "        # for this we loop over all 5 bit strings for each player\n",
    "        for player in range(2):\n",
    "            for bitString in grid[player].keys():\n",
    "                # and then over all positions\n",
    "                for position in range(5):\n",
    "                    # if the string has a 1 at that position, we add a contribution to the damage\n",
    "                    # remember that the bit for position 0 is the rightmost one, and so at bitString[4]\n",
    "                    if (bitString[4-position]==\"1\"):\n",
    "                        damage[player][position] += grid[player][bitString]/shots          \n",
    "        \n",
    "        # give results to players\n",
    "        for player in [0,1]:\n",
    "\n",
    "            input(\"\\nPress Enter to see the results for Player \" + str(player+1) + \"'s ships...\\n\")\n",
    "\n",
    "            # report damage for qubits that are ships, and which have significant damange\n",
    "            # ideally this would be non-zero damage, but noise means that can happen for ships that haven't been hit\n",
    "            # so we choose 5% as the threshold\n",
    "            display = [\" ?  \"]*5\n",
    "            # loop over all qubits that are ships\n",
    "            for position in shipPos[player]:\n",
    "                # if the damage is high enough, display the damage\n",
    "                if ( damage[player][position] > 0.1 ):\n",
    "                    if (damage[player][position]>0.9):\n",
    "                         display[position] = \"100%\"\n",
    "                    else:\n",
    "                        display[position] = str(int( 100*damage[player][position] )) + \"% \"\n",
    "\n",
    "            print(\"Here is the percentage damage for ships that have been bombed.\\n\")\n",
    "            print(display[ 4 ] + \"    \" + display[ 0 ])\n",
    "            print(\" |\\     /|\")\n",
    "            print(\" | \\   / |\")\n",
    "            print(\" |  \\ /  |\")\n",
    "            print(\" |  \" + display[ 2 ] + \" |\")\n",
    "            print(\" |  / \\  |\")\n",
    "            print(\" | /   \\ |\")\n",
    "            print(\" |/     \\|\")\n",
    "            print(display[ 3 ] + \"    \" + display[ 1 ])\n",
    "            print(\"\\n\")\n",
    "            print(\"Ships with 95% damage or more have been destroyed\\n\")\n",
    "\n",
    "            print(\"\\n\")\n",
    "\n",
    "            # if a player has all their ships destroyed, the game is over\n",
    "            # ideally this would mean 100% damage, but we go for 95% because of noise again\n",
    "            if (damage[player][ shipPos[player][0] ]>.9) and (damage[player][ shipPos[player][1] ]>.9) and (damage[player][ shipPos[player][2] ]>.9):\n",
    "                print (\"***All Player \" + str(player+1) + \"'s ships have been destroyed!***\\n\\n\")\n",
    "                game = False\n",
    "\n",
    "        if (game is False):\n",
    "            print(\"\")\n",
    "            print(\"=====================================GAME OVER=====================================\")\n",
    "            print(\"\")\n",
    "        "
   ]
  },
  {
   "cell_type": "markdown",
   "metadata": {
    "collapsed": true
   },
   "source": [
    "## <br>\n",
    "<br>\n",
    "<br>\n",
    "If you are reading this while running the game, you might be wondering where all the action has gone. Try scrolling to the bottom of the output in the cell above."
   ]
  },
  {
   "cell_type": "code",
   "execution_count": 1,
   "metadata": {},
   "outputs": [
    {
     "data": {
      "text/html": [
       "<h2>Version information</h2>\n",
       "<p>Please note that this tutorial is targeted to the <b>stable</b> version of the QISKit SDK. The following versions of the packages are recommended:</p>\n",
       "<table>\n",
       "<tr><th>Package</th><th colspan=\"2\">Version</th></tr>\n",
       "<tr><td>QISKit</td><td> 0.4.8</td></tr>\n",
       "<tr><td>IBMQuantumExperience</td><td>&gt;= 1.8.26</td></tr>\n",
       "<tr><td>numpy</td><td>&gt;= 1.13, &lt; 1.14</td></tr>\n",
       "<tr><td>scipy</td><td>&gt;= 0.19, &lt; 0.20</td></tr>\n",
       "<tr><td>matplotlib</td><td>&gt;= 2.0, &lt; 2.1</td></tr>\n",
       "</table>"
      ],
      "text/plain": [
       "<IPython.core.display.HTML object>"
      ]
     },
     "metadata": {},
     "output_type": "display_data"
    }
   ],
   "source": [
    "%run \"../version.ipynb\""
   ]
  },
  {
   "cell_type": "code",
   "execution_count": null,
   "metadata": {
    "collapsed": true
   },
   "outputs": [],
   "source": []
  }
 ],
 "metadata": {
  "kernelspec": {
   "display_name": "Python 3",
   "language": "python",
   "name": "python3"
  },
  "language_info": {
   "codemirror_mode": {
    "name": "ipython",
    "version": 3
   },
   "file_extension": ".py",
   "mimetype": "text/x-python",
   "name": "python",
   "nbconvert_exporter": "python",
   "pygments_lexer": "ipython3",
   "version": "3.6.0"
  }
 },
 "nbformat": 4,
 "nbformat_minor": 2
}
