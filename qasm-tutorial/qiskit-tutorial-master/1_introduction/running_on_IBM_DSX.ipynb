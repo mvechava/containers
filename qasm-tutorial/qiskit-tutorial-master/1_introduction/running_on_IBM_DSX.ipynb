{
 "cells": [
  {
   "cell_type": "markdown",
   "metadata": {},
   "source": [
    "<img src=\"../images/QISKit-c.gif\" alt=\"Note: In order for images to show up in this jupyter notebook you need to select File => Trusted Notebook\" width=\"250 px\" align=\"left\">"
   ]
  },
  {
   "cell_type": "markdown",
   "metadata": {},
   "source": [
    "The latest version of this notebook is available [here.](https://github.com/QISKit/qiskit-tutorial) For more information about how to use the IBM Q experience (QX), see \n",
    "[this](https://quantumexperience.ng.bluemix.net) link.\n",
    "\n",
    "\n",
    "## Running Quantum Examples Using IBM Data Science Experience\n",
    "\n",
    "This example is copied from the original [getting_started.ipynb](https://github.com/QISKit/qiskit-tutorial/blob/master/1_introduction/getting_started.ipynb). It is tweaked (changes in the first code cell), so that it can be directly run using [IBM Data Science Experience](https://datascience.ibm.com) (IBM DSX). If you want to run other Quantum notebooks using IBM DSX, simply copy the first *code cell* and paste it at the beginning of your *other* notebook.\n",
    "\n",
    "***\n",
    "\n",
    "### About IBM Data Science Experience\n",
    "\n",
    "IBM Data Science Experience (IBM DSX) is an interactive, collaborative, cloud-based environment where data scientists can use multiple tools to activate their insights.  \n",
    "\n",
    "If you just starting with QISkit and looking for a webhosted Jupyter notebook environment, IBM DSX is an excellent option. It is fairly easy to get your quantum notebook running in the Jupyter notebook environment provided by IBM DSX. Moreover, it provides a platform where you can create your Quantum notebooks, invite fellow researchers to collaborate or simply share your work within the community.\n",
    "\n",
    "\n",
    "\n",
    "### What you need to do\n",
    "\n",
    "This example illustrates how to tweak your notebook so that it is ready to be run using IBM DSX. \n",
    "\n",
    "* In the first code cell, make sure to update the value of **`QX_API_token`** See the heading below that instructs how to get this information. \n",
    "* To run any other Quantum experience notebooks in IBM  DSX, just copy the first *code cell* of this notebook and paste it as the first *code cell* of your '*other*' notebook then just run it. \n",
    "\n",
    "\n",
    "### Getting your API token\n",
    "\n",
    "The API access token allows you to connect to the IBM Quantum Experience API.  Here is how you can obtain this personal API access token.\n",
    "\n",
    "1. If you do not have an account for [IBM Q experience](https://quantumexperience.ng.bluemix.net) yet, sign up for one by following the instructions . \n",
    "2. Login to [IBM Q experience](https://quantumexperience.ng.bluemix.net).\n",
    "3. Click on your username that is displayed near the top right corner, and select *My Account*\n",
    "4. The *My Account* page has a section called *Personal Access Token* . Just copy the token displayed there. \n",
    "5. Update the value of **`QX_API_TOKEN`** in the first code cell with this API token you just copied in previous step.\n",
    "  \n",
    "\n",
    "### Credits and Contributions\n",
    "1. Ismael Faro, Jay Gambetta, Andrew Cross. See: [getting_started.ipynb](https://github.com/QISKit/qiskit-tutorial/blob/master/1_introduction/getting_started.ipynb).\n",
    "2. See this [public gist](https://gist.github.com/dtmcclure/a1299fc99d12f5dc37ad6400fb8bbf2a) which has been used as a reference while preparing this notebook. (Github user [dtmcclure](https://github.com/dtmcclure) ) \n",
    "3. Ninad Sathaye (code changes for running the notebook on IBM Data Science Experience)\n",
    "\n",
    "## The 'first code cell' follows (customization for IBM DSX):"
   ]
  },
  {
   "cell_type": "code",
   "execution_count": null,
   "metadata": {
    "collapsed": false
   },
   "outputs": [],
   "source": [
    "# This cell does some preparatory work to run this Jupyter notebook using \n",
    "# IBM Data Science Experience (datascience.ibm.com). All the other cells remain the same as in the original example. \n",
    "\n",
    "# --------------------------------------------------------------------------------------------------\n",
    "# IMPORTANT NOTES: \n",
    "# 1) Log on to your QX account and get your API token. You can get it from the Accounts page \n",
    "# (the top-right icon on QX website) Copy-Paste the API token below.BE SURE TO ENCLOSE IN QUOTES (\"\")\n",
    "# 2) If you are sharing this notebook, MAKE SURE TO REMOVE the API token string before sharing! \n",
    "#   Alternatively, you can modify the code below and separately create and save Qconfig.py file with \n",
    "#   API token.\n",
    "# --------------------------------------------------------------------------------------------------\n",
    "QX_API_TOKEN = \"PUT_YOUR_API_TOKEN_HERE\"\n",
    "\n",
    "import sys\n",
    "import os\n",
    "\n",
    "try:\n",
    "    assert(sys.version_info.major > 2)\n",
    "except AssertionError:          \n",
    "    print(\"This code requires Python 3.5 or beyond. Your version: {}.{}\".format(sys.version_info.major,sys.version_info.minor))\n",
    "    raise\n",
    "\n",
    "# DO NOT CHANGE THE FOLLOWING assertion\n",
    "try:\n",
    "    assert(QX_API_TOKEN != \"PUT_YOUR_API_TOKEN_HERE\")\n",
    "except AssertionError:\n",
    "    print(\"Update the value of QX_API_TOKEN first!\")\n",
    "    raise\n",
    "    \n",
    "# importlib.reload is used to reload the Qconfig module. Fixes any update problems with Qconfig.APItoken \n",
    "import importlib\n",
    "\n",
    "# We need visibility to Qconfig.py module add current dir your sys.path\n",
    "sys.path.append(\"./\")\n",
    "\n",
    "# Install qiskit package\n",
    "!pip install qiskit\n",
    "!rm -rf Qconfig.py \n",
    "!touch Qconfig.py\n",
    "\n",
    "apitoken_str = 'APItoken=\\\"{}\\\"'.format(QX_API_TOKEN)\n",
    "config_str = \"config = { \\\"url\\\": 'https://quantumexperience.ng.bluemix.net/api'}\"\n",
    "\n",
    "with open('Qconfig.py', 'w') as fil:\n",
    "    fil.write(apitoken_str + \"\\n\")\n",
    "    fil.write(config_str + \"\\n\")\n",
    "    \n",
    "# Now import all the modules from qiskit such as QuantumProgram, QuantumCircuit, QuantumRegister etc.\n",
    "# Optionally, you can modify the qiskit import line below to do specific module imports. \n",
    "from qiskit import *\n",
    "import Qconfig\n",
    "\n",
    "try:\n",
    "    # Reload Qconfig module again to make sure the APItoken is updated\n",
    "    importlib.reload(Qconfig)\n",
    "except NameError as e:\n",
    "    print(\"Name error: \", e.args)\n",
    "except:\n",
    "    print(\"unable to reload the module, continuing the execution..\")\n",
    "    \n",
    "print(\"Qconfig.APItoken = \", Qconfig.APItoken)"
   ]
  },
  {
   "cell_type": "markdown",
   "metadata": {},
   "source": [
    "## Basic Concept\n",
    "\n",
    "The basic concept of our quantum program is an array of quantum circuits. The program workflow consists of three stages: [Build](#sectionB), [Compile](#sectionC), and [Run](#sectionR). Build allows you to make different quantum circuits that represent the problem you are solving; Compile allows you to rewrite them to run on different backends (simulators/real chips of different [quantum volumes](http://ibm.biz/qiskit-quantum-volume), sizes, fidelity, etc); and Run launches the jobs.  After the jobs have been run, the data is collected. There are methods for putting this data together, depending on the program. This either gives you the answer you wanted, or allows you to make a better program for the next instance.\n",
    "\n",
    "### Building your program: Create it  <a id='sectionB'></a>\n",
    "\n",
    "First you need to import the QuantumProgram package from QISKit."
   ]
  },
  {
   "cell_type": "markdown",
   "metadata": {},
   "source": [
    "The basic elements needed for your first program are the QuantumProgram, a Circuit, a Quantum Register, and a Classical Register."
   ]
  },
  {
   "cell_type": "code",
   "execution_count": null,
   "metadata": {
    "collapsed": true
   },
   "outputs": [],
   "source": [
    "# Creating Programs\n",
    "# create your first QuantumProgram object instance.\n",
    "qp = QuantumProgram()\n",
    "\n",
    "# Creating Registers\n",
    "# create your first Quantum Register called \"qr\" with 2 qubits \n",
    "qr = qp.create_quantum_register('qr', 2)\n",
    "# create your first Classical Register  called \"cr\" with 2 bits\n",
    "cr = qp.create_classical_register('cr', 2)\n",
    "\n",
    "# Creating Circuits\n",
    "# create your first Quantum Circuit called \"qc\" involving your Quantum Register \"qr\"\n",
    "# and your Classical Register \"cr\"\n",
    "qc = qp.create_circuit('qc', [qr], [cr])"
   ]
  },
  {
   "cell_type": "markdown",
   "metadata": {},
   "source": [
    "Another option for creating your QuantumProgram instance is to define a dictionary with all the necessary components of your program."
   ]
  },
  {
   "cell_type": "code",
   "execution_count": null,
   "metadata": {
    "collapsed": true
   },
   "outputs": [],
   "source": [
    "Q_SPECS = {\n",
    "    'circuits': [{\n",
    "        'name': 'Circuit',\n",
    "        'quantum_registers': [{\n",
    "            'name': 'qr',\n",
    "            'size': 4\n",
    "        }],\n",
    "        'classical_registers': [{\n",
    "            'name': 'cr',\n",
    "            'size': 4\n",
    "        }]}],\n",
    "}"
   ]
  },
  {
   "cell_type": "markdown",
   "metadata": {},
   "source": [
    "The required element for a Program is a \"circuits\" array. Within \"circuits\", the required field is \"name\"; it can have several Quantum Registers and Classical Registers. Every register must have a name and the number of each element (qubits or bits).\n",
    "\n",
    "After that, you can use this dictionary definition as the specs of one QuantumProgram object to initialize it."
   ]
  },
  {
   "cell_type": "code",
   "execution_count": null,
   "metadata": {
    "collapsed": true
   },
   "outputs": [],
   "source": [
    "qp = QuantumProgram(specs=Q_SPECS)"
   ]
  },
  {
   "cell_type": "markdown",
   "metadata": {},
   "source": [
    "You can also get every component from your new qp to use."
   ]
  },
  {
   "cell_type": "code",
   "execution_count": null,
   "metadata": {
    "collapsed": true
   },
   "outputs": [],
   "source": [
    "# Get the components.\n",
    "\n",
    "# get the circuit by Name\n",
    "circuit = qp.get_circuit('Circuit')\n",
    "\n",
    "# get the Quantum Register by Name\n",
    "quantum_r = qp.get_quantum_register('qr')\n",
    "\n",
    "# get the Classical Register by Name\n",
    "classical_r = qp.get_classical_register('cr')"
   ]
  },
  {
   "cell_type": "markdown",
   "metadata": {},
   "source": [
    "### Building your program: Add Gates to your Circuit\n",
    "After you create the circuit with its registers, you can add gates to manipulate the registers. Below is a list of the gates you can use in the QX.\n",
    "\n",
    "You can find extensive information about these gates and how use them in our [Quantum Experience User Guide](https://quantumexperience.ng.bluemix.net/qstage/#/tutorial?sectionId=71972f437b08e12d1f465a8857f4514c&pageIndex=2). "
   ]
  },
  {
   "cell_type": "code",
   "execution_count": null,
   "metadata": {
    "collapsed": false
   },
   "outputs": [],
   "source": [
    "# Pauli X gate to qubit 1 in the Quantum Register \"qr\" \n",
    "circuit.x(quantum_r[1])\n",
    "\n",
    "# Pauli Y gate to qubit 2 in the Quantum Register \"qr\" \n",
    "circuit.y(quantum_r[2])\n",
    "\n",
    "# Pauli Z gate to qubit 3 in the Quantum Register \"qr\" \n",
    "circuit.z(quantum_r[3])\n",
    "\n",
    "# CNOT (Controlled-NOT) gate from qubit 0 to qubit 2\n",
    "circuit.cx(quantum_r[0], quantum_r[2])\n",
    "\n",
    "# add a barrier to your circuit\n",
    "circuit.barrier()\n",
    "\n",
    "# H (Hadamard) gate to qubit 0 in the Quantum Register \"qr\" \n",
    "circuit.h(quantum_r[0])\n",
    "\n",
    "# S Phase gate to qubit 0\n",
    "circuit.s(quantum_r[0])\n",
    "\n",
    "# T Phase gate to qubit 1\n",
    "circuit.t(quantum_r[1])\n",
    "\n",
    "# identity gate to qubit 1\n",
    "circuit.iden(quantum_r[1])\n",
    "\n",
    "# first physical gate: u1(lambda) to qubit 0\n",
    "circuit.u1(0.3, quantum_r[0])\n",
    "\n",
    "# second physical gate: u2(phi,lambda) to qubit 1\n",
    "circuit.u2(0.3, 0.2, quantum_r[1])\n",
    "\n",
    "# second physical gate: u3(theta,phi,lambda) to qubit 2\n",
    "circuit.u3(0.3, 0.2, 0.1, quantum_r[2])\n",
    "\n",
    "# rotation around the x-axis to qubit 0\n",
    "circuit.rx(0.2, quantum_r[0])\n",
    "\n",
    "# rotation around the y-axis to qubit 1\n",
    "circuit.ry(0.2, quantum_r[1])\n",
    "\n",
    "# rotation around the z-axis to qubit 2\n",
    "circuit.rz(0.2, quantum_r[2])\n",
    "\n",
    "# Classical if, from qubit2 gate Z to classical bit 1\n",
    "# circuit.z(quantum_r[2]).c_if(classical_r, 0)\n",
    "\n",
    "# measure gate from qubit 0 to classical bit 0\n",
    "circuit.measure(quantum_r[0], classical_r[0])\n",
    "circuit.measure(quantum_r[1], classical_r[1])\n",
    "circuit.measure(quantum_r[2], classical_r[2])"
   ]
  },
  {
   "cell_type": "markdown",
   "metadata": {},
   "source": [
    "If you want to see what circuits are in your program you can use the get_circuit_names()"
   ]
  },
  {
   "cell_type": "code",
   "execution_count": null,
   "metadata": {
    "collapsed": false
   },
   "outputs": [],
   "source": [
    "qp.get_circuit_names()"
   ]
  },
  {
   "cell_type": "markdown",
   "metadata": {},
   "source": [
    "### Extract QASM\n",
    "\n",
    "You can obtain a QASM representation of your code."
   ]
  },
  {
   "cell_type": "code",
   "execution_count": null,
   "metadata": {
    "collapsed": false
   },
   "outputs": [],
   "source": [
    "# QASM from a program\n",
    "\n",
    "QASM_source = qp.get_qasm('Circuit')\n",
    "\n",
    "print(QASM_source)"
   ]
  },
  {
   "cell_type": "markdown",
   "metadata": {},
   "source": [
    "### Compile and Run or Execute <a id='sectionC'></a>"
   ]
  },
  {
   "cell_type": "markdown",
   "metadata": {},
   "source": [
    "First we need to choose the backend. Lets start with the local simulator "
   ]
  },
  {
   "cell_type": "code",
   "execution_count": null,
   "metadata": {
    "collapsed": true
   },
   "outputs": [],
   "source": [
    "backend = 'local_qasm_simulator' \n",
    "circuits = ['Circuit']  # Group of circuits to execute"
   ]
  },
  {
   "cell_type": "markdown",
   "metadata": {},
   "source": [
    "Next we need to compile the circuits into a quantum object which we call qobj"
   ]
  },
  {
   "cell_type": "code",
   "execution_count": null,
   "metadata": {
    "collapsed": true
   },
   "outputs": [],
   "source": [
    "qobj=qp.compile(circuits, backend) # Compile your program"
   ]
  },
  {
   "cell_type": "markdown",
   "metadata": {},
   "source": [
    "Then you can run your program. Using wait and timeout we can check the execution result every 2 seconds and timeout if the job is not run in 240 seconds. "
   ]
  },
  {
   "cell_type": "code",
   "execution_count": null,
   "metadata": {
    "collapsed": false
   },
   "outputs": [],
   "source": [
    "result = qp.run(qobj, wait=2, timeout=240)\n",
    "print(result)"
   ]
  },
  {
   "cell_type": "markdown",
   "metadata": {},
   "source": [
    "When you run a program, the result will be a new object that contains the data, status, and a copy of the qobj. The status of the results can be obtian using print and will one of the follow:\n",
    "\n",
    "```\n",
    "JOB_STATUS = {\n",
    "    inProgress: 'RUNNING',\n",
    "    errorOnCreate: 'ERROR_CREATING_JOB',\n",
    "    errorExecuting: 'ERROR_RUNNING_JOB',\n",
    "    completed: 'COMPLETED'\n",
    "  };\n",
    "``` "
   ]
  },
  {
   "cell_type": "markdown",
   "metadata": {},
   "source": [
    "### Result\n",
    "You can access the result via the function \n",
    "\n",
    "```get_counts('name')```. "
   ]
  },
  {
   "cell_type": "code",
   "execution_count": null,
   "metadata": {
    "collapsed": false
   },
   "outputs": [],
   "source": [
    "result.get_counts('Circuit')"
   ]
  },
  {
   "cell_type": "markdown",
   "metadata": {},
   "source": [
    "In addition to getting the number of times each output was seen, you can get the circuit which was run in QASM format.\n",
    "For this simulation, the compiled circuit is not much different from the input circuit. Each single-qubit gate has been expressed as a u1, u2, or u3 gate."
   ]
  },
  {
   "cell_type": "code",
   "execution_count": null,
   "metadata": {
    "collapsed": false
   },
   "outputs": [],
   "source": [
    "ran_qasm = result.get_ran_qasm('Circuit')\n",
    "\n",
    "print(ran_qasm)"
   ]
  },
  {
   "cell_type": "markdown",
   "metadata": {},
   "source": [
    "You can use \n",
    "\n",
    "```qp.execute(circuits)```\n",
    "\n",
    "to combine the compile and run in a single step."
   ]
  },
  {
   "cell_type": "code",
   "execution_count": null,
   "metadata": {
    "collapsed": false
   },
   "outputs": [],
   "source": [
    "out = qp.execute(circuits, backend, wait=2, timeout=240)\n",
    "print(out)"
   ]
  },
  {
   "cell_type": "markdown",
   "metadata": {},
   "source": [
    "#### Compile Parameters\n",
    "```qp.compile(circuits, backend='ibmqx2', shots=1024, max_credits=3, basis_gates=None, coupling_map=None, seed=None)```\n",
    "\n",
    "     - circuits: Array of circuits to compile\n",
    "     - backend: Backend \n",
    "        ['ibmqx_qasm_simulator',    # qasm simulator \n",
    "         'ibmqx2',                  # online real chip with 5 qubits\n",
    "         'ibmqx3',                  # online real chip with 16 qubits\n",
    "         'local_unitary_simulator', # local unitary simulator \n",
    "         'local_qasm_simulator']    # local simulator \n",
    "     - config: configure options for the compiler \n",
    "     - shots: Number of shots, only for real chips and qasm simulators\n",
    "     - max_credits: Maximum number of credits to spend in the executions. If the executions cost more than your available credits, the job is aborted\n",
    "     - basis_gates: the base gates by default are: u1, u2, u3, cx, id\n",
    "     - coupling_map: Object that represents the physical/topological layout of a chip.\n",
    "     - seed: For the qasm simulator if you want to set the initial seed. \n",
    "#### Run Parameters\n",
    "```qp.run(qobj, wait=5, timeout=60)```\n",
    "     - the qobj to be run.\n",
    "     - wait: Time to wait before checking if the execution is COMPLETED.\n",
    "     - timeout: Timeout of the execution.\n",
    "#### Execute Parameters \n",
    "Execute has the combined parameters of compile and run.\n",
    "\n",
    "```qp.execute(circuits, backend, shots=1024, max_credits=3, basis_gates=None, wait=5, timeout=60, basis_gates=None, coupling_map=None)```"
   ]
  },
  {
   "cell_type": "markdown",
   "metadata": {},
   "source": [
    "### Execute on a Real Device<a id='sectionR'></a>"
   ]
  },
  {
   "cell_type": "code",
   "execution_count": null,
   "metadata": {
    "collapsed": false
   },
   "outputs": [],
   "source": [
    "backend = 'ibmqx2'   # Backend where you execute your program; in this case, on the Real Quantum Chip online \n",
    "circuits = ['Circuit']   # Group of circuits to execute\n",
    "shots = 1024           # Number of shots to run the program (experiment); maximum is 8192 shots.\n",
    "max_credits = 3          # Maximum number of credits to spend on executions. \n",
    "qp.set_api(Qconfig.APItoken, Qconfig.config['url']) # set the APIToken and API url\n",
    "\n",
    "result_real = qp.execute(circuits, backend, shots=shots, max_credits=3, wait=10, timeout=240)"
   ]
  },
  {
   "cell_type": "markdown",
   "metadata": {},
   "source": [
    "Like before the counts for both executions can be obtained using ```get_counts('name')``` "
   ]
  },
  {
   "cell_type": "code",
   "execution_count": 1,
   "metadata": {},
   "outputs": [
    {
     "data": {
      "text/html": [
       "<h2>Version information</h2>\n",
       "<p>Please note that this tutorial is targeted to the <b>stable</b> version of the QISKit SDK. The following versions of the packages are recommended:</p>\n",
       "<table>\n",
       "<tr><th>Package</th><th colspan=\"2\">Version</th></tr>\n",
       "<tr><td>QISKit</td><td> 0.4.8</td></tr>\n",
       "<tr><td>IBMQuantumExperience</td><td>&gt;= 1.8.26</td></tr>\n",
       "<tr><td>numpy</td><td>&gt;= 1.13, &lt; 1.14</td></tr>\n",
       "<tr><td>scipy</td><td>&gt;= 0.19, &lt; 0.20</td></tr>\n",
       "<tr><td>matplotlib</td><td>&gt;= 2.0, &lt; 2.1</td></tr>\n",
       "</table>"
      ],
      "text/plain": [
       "<IPython.core.display.HTML object>"
      ]
     },
     "metadata": {},
     "output_type": "display_data"
    }
   ],
   "source": [
    "%run \"../version.ipynb\""
   ]
  },
  {
   "cell_type": "code",
   "execution_count": null,
   "metadata": {
    "collapsed": false
   },
   "outputs": [],
   "source": [
    "result_real.get_counts('Circuit')"
   ]
  },
  {
   "cell_type": "code",
   "execution_count": null,
   "metadata": {
    "collapsed": false
   },
   "outputs": [],
   "source": [
    "result_real2.get_counts('Circuit')"
   ]
  },
  {
   "cell_type": "code",
   "execution_count": null,
   "metadata": {
    "collapsed": true
   },
   "outputs": [],
   "source": []
  }
 ],
 "metadata": {
  "anaconda-cloud": {},
  "kernelspec": {
   "display_name": "Python [default]",
   "language": "python",
   "name": "python3"
  },
  "language_info": {
   "codemirror_mode": {
    "name": "ipython",
    "version": 3
   },
   "file_extension": ".py",
   "mimetype": "text/x-python",
   "name": "python",
   "nbconvert_exporter": "python",
   "pygments_lexer": "ipython3",
   "version": "3.5.2"
  }
 },
 "nbformat": 4,
 "nbformat_minor": 1
}
