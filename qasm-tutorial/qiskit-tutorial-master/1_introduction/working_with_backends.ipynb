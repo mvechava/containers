{
 "cells": [
  {
   "cell_type": "markdown",
   "metadata": {},
   "source": [
    "<img src=\"../images/QISKit-c.gif\" alt=\"Note: In order for images to show up in this jupyter notebook you need to select File => Trusted Notebook\" width=\"250 px\" align=\"left\">"
   ]
  },
  {
   "cell_type": "markdown",
   "metadata": {},
   "source": [
    "## _*Working with the different backends*_ \n",
    "\n",
    "The latest version of this notebook is available on https://github.com/QISKit/qiskit-tutorial.\n",
    "\n",
    "***\n",
    "### Contributors\n",
    "Jay Gambetta and Joe Hellmers"
   ]
  },
  {
   "cell_type": "markdown",
   "metadata": {},
   "source": [
    "## The backend. \n",
    "\n",
    "At the core of QISKit is the ability to access different backends to run your quantum programs. These backends are real devices, online simulators, and local simulations. As we continue to increase the flexibility of QISKit we expect there to be many different backends. \n",
    "\n",
    "These include new hardware with different number of qubits, connectivity, different gate sets, and simulators with different properties. \n",
    "\n",
    "Current hardware \n",
    "* [IBMQX2](https://github.com/IBM/qiskit-qx-info/tree/master/backends/ibmqx2) - a 5 qubit transmon bowtie chip.\n",
    "* [IBMQX4](https://github.com/IBM/qiskit-qx-info/tree/master/backends/ibmqx4) - a 5 qubit transmon bowtie chip.\n",
    "* [IBMQX5](https://github.com/IBM/qiskit-qx-info/tree/master/backends/ibmqx5) - a 16 qubit ladder chip.\n",
    "\n",
    "Current simulators \n",
    "\n",
    "* QASM simulator – simulates a quantum circuit and predicts the outcomes of a quantum experiment (samples over many shots).\n",
    "* QASM simulators with noise – simulates a quantum circuit with additional noise inputs.\n",
    "* Unitary simulator – predicts the unitary of a quantum circuit (ignoring measurement and if operations)."
   ]
  },
  {
   "cell_type": "code",
   "execution_count": 1,
   "metadata": {
    "collapsed": true
   },
   "outputs": [],
   "source": [
    "# Checking the version of PYTHON; we only support > 3.5\n",
    "import sys\n",
    "if sys.version_info < (3,5):\n",
    "    raise Exception('Please use Python version 3.5 or greater.')\n",
    "    \n",
    "from pprint import pprint\n",
    "\n",
    "# importing the QISKit\n",
    "from qiskit import QuantumProgram\n",
    "import Qconfig"
   ]
  },
  {
   "cell_type": "code",
   "execution_count": 2,
   "metadata": {
    "collapsed": true
   },
   "outputs": [],
   "source": [
    "Q_program = QuantumProgram()\n",
    "Q_program.set_api(Qconfig.APItoken, Qconfig.config['url']) # set the APIToken and API url"
   ]
  },
  {
   "cell_type": "markdown",
   "metadata": {},
   "source": [
    "### List and status \n",
    "\n",
    "To list all the backends that are avaiable for use we have provided the command \n",
    "\n",
    "```Q_program.available_backends()```"
   ]
  },
  {
   "cell_type": "code",
   "execution_count": 3,
   "metadata": {
    "collapsed": false
   },
   "outputs": [
    {
     "name": "stdout",
     "output_type": "stream",
     "text": [
      "['ibmqx4',\n",
      " 'ibmqx5',\n",
      " 'ibmqx2',\n",
      " 'ibmqx_qasm_simulator',\n",
      " 'local_qasm_simulator',\n",
      " 'local_unitary_simulator']\n"
     ]
    }
   ],
   "source": [
    "pprint(Q_program.available_backends())"
   ]
  },
  {
   "cell_type": "markdown",
   "metadata": {},
   "source": [
    "The status can be obtained using \n",
    "\n",
    "```Q_program.get_backend_status('ibmqx4')```"
   ]
  },
  {
   "cell_type": "code",
   "execution_count": 4,
   "metadata": {
    "collapsed": false
   },
   "outputs": [
    {
     "name": "stdout",
     "output_type": "stream",
     "text": [
      "{'available': True, 'backend': 'ibmqx4', 'busy': False, 'pending_jobs': 0}\n"
     ]
    }
   ],
   "source": [
    "pprint(Q_program.get_backend_status('ibmqx4'))"
   ]
  },
  {
   "cell_type": "markdown",
   "metadata": {},
   "source": [
    "If the backend system is under maintenance it will be listed as unavailable\n",
    "\n",
    "```Q_program.get_backend_status('ibmqx2')```"
   ]
  },
  {
   "cell_type": "code",
   "execution_count": 5,
   "metadata": {},
   "outputs": [
    {
     "name": "stdout",
     "output_type": "stream",
     "text": [
      "{'available': False, 'backend': 'ibmqx2', 'busy': False, 'pending_jobs': 2456}\n"
     ]
    }
   ],
   "source": [
    "pprint(Q_program.get_backend_status('ibmqx2'))"
   ]
  },
  {
   "cell_type": "markdown",
   "metadata": {},
   "source": [
    "### Configuration\n",
    "\n",
    "To get more informaiton about the backend \n",
    "\n",
    "```Q_program.get_backend_configuration('ibmqx4')```"
   ]
  },
  {
   "cell_type": "code",
   "execution_count": 6,
   "metadata": {},
   "outputs": [
    {
     "name": "stdout",
     "output_type": "stream",
     "text": [
      "{'basis_gates': 'SU2+CNOT',\n",
      " 'chip_name': 'Raven',\n",
      " 'coupling_map': {1: [0], 2: [0, 1, 4], 3: [2, 4]},\n",
      " 'description': '5 qubit transmon bowtie chip 3',\n",
      " 'n_qubits': 5,\n",
      " 'name': 'ibmqx4',\n",
      " 'online_date': '2017-09-18T11:00:00.000Z',\n",
      " 'simulator': False,\n",
      " 'url': 'https://ibm.biz/qiskit-ibmqx4',\n",
      " 'version': '1'}\n"
     ]
    }
   ],
   "source": [
    "pprint(Q_program.get_backend_configuration('ibmqx4'))"
   ]
  },
  {
   "cell_type": "markdown",
   "metadata": {},
   "source": [
    "This information for hardware contains \n",
    "    - 'name': 'backend_name',    \n",
    "        Backend name used to run quantum programs\n",
    "    - 'version': '1',    \n",
    "        A version number that will iterate when changes are made to the device\n",
    "    - 'url': 'https://ibm.biz/qiskit-ibmqx4',    \n",
    "        A url address to find more information about the device\n",
    "    - 'simulator': false,    \n",
    "        Flag for labeling if the backend is simulator or not\n",
    "    - 'description': '5 qubit transmon bowtie chip 3',   \n",
    "        A human readable description of the device\n",
    "    - 'n_qubits': 5,    \n",
    "        The number of qubits in the device\n",
    "    - 'coupling_map': {1: [0], 2: [0, 1, 4], 3: [2, 4]},    \n",
    "        The connectivity map of the deive i:[j] represents control qubit i coupled to target qubit(s) j\n",
    "    - 'basis_gates': 'SU2+CNOT',    \n",
    "        The gate set of the device is the complete set SU(2) gate operations and the controlled NOT gate\n",
    "    - 'online_date': '2017-09-18',\n",
    "        The date the device went online\n",
    "    - 'chip_name': 'Raven'\n",
    "        A code name for the device\n",
    "        \n",
    "The information for the simulators is obtained using the same command"
   ]
  },
  {
   "cell_type": "code",
   "execution_count": 7,
   "metadata": {},
   "outputs": [
    {
     "name": "stdout",
     "output_type": "stream",
     "text": [
      "{'basis_gates': 'u1,u2,u3,cx,id',\n",
      " 'coupling_map': 'all-to-all',\n",
      " 'description': 'A python simulator for qasm files',\n",
      " 'name': 'local_qasm_simulator',\n",
      " 'simulator': True,\n",
      " 'url': 'https://github.com/IBM/qiskit-sdk-py'}\n"
     ]
    }
   ],
   "source": [
    "pprint(Q_program.get_backend_configuration('local_qasm_simulator'))"
   ]
  },
  {
   "cell_type": "markdown",
   "metadata": {},
   "source": [
    "This information for a simulator contains \n",
    "    - 'name': 'backend_name',    \n",
    "        Backend name used to run quantum programs\n",
    "    - 'url': 'https://github.com/IBM/qiskit-sdk-py',    \n",
    "        A url address to find more information about the simulator\n",
    "    - 'simulator': true,    \n",
    "        Flag for labeling if the backend is simulator or not\n",
    "    - 'description': 'A python simulator for qasm files',   \n",
    "        A human readable description of the simulator\n",
    "    - 'coupling_map': 'all-to-all',    \n",
    "        The connectivity map, all-to-all means that every two qubit gate is possible \n",
    "    - 'basis_gates': 'u1,u2,u3,cx,id',    \n",
    "        The gate set of the device. Here u1, u2, an u3 are single qubit unitary rotations on the qubits, cx is the \n",
    "        CNOT gate, and id is the identity operation"
   ]
  },
  {
   "cell_type": "markdown",
   "metadata": {},
   "source": [
    "### Extra information - calibrations\n",
    "\n",
    "For the online devices calibrations are run every 12 hours and the last calibration data can be obtained using \n",
    "\n",
    "```Q_program.get_backend_calibration('ibmqx4')```"
   ]
  },
  {
   "cell_type": "code",
   "execution_count": 8,
   "metadata": {},
   "outputs": [
    {
     "name": "stdout",
     "output_type": "stream",
     "text": [
      "{'backend': 'ibmqx4',\n",
      " 'last_update_date': '2017-10-31T11:02:35.000Z',\n",
      " 'multi_qubit_gates': [{'gateError': {'date': '2017-10-31T11:02:35Z',\n",
      "                                      'value': 0.021623279195603723},\n",
      "                        'name': 'CX1_0',\n",
      "                        'qubits': [1, 0],\n",
      "                        'type': 'CX'},\n",
      "                       {'gateError': {'date': '2017-10-31T11:02:35Z',\n",
      "                                      'value': 0.018312238448853407},\n",
      "                        'name': 'CX2_0',\n",
      "                        'qubits': [2, 0],\n",
      "                        'type': 'CX'},\n",
      "                       {'gateError': {'date': '2017-10-31T11:02:35Z',\n",
      "                                      'value': 0.02568789465394103},\n",
      "                        'name': 'CX2_1',\n",
      "                        'qubits': [2, 1],\n",
      "                        'type': 'CX'},\n",
      "                       {'gateError': {'date': '2017-10-31T11:02:35Z',\n",
      "                                      'value': 0.038361464669008916},\n",
      "                        'name': 'CX2_4',\n",
      "                        'qubits': [2, 4],\n",
      "                        'type': 'CX'},\n",
      "                       {'gateError': {'date': '2017-10-31T11:02:35Z',\n",
      "                                      'value': 0.023654165328270943},\n",
      "                        'name': 'CX3_2',\n",
      "                        'qubits': [3, 2],\n",
      "                        'type': 'CX'},\n",
      "                       {'gateError': {'date': '2017-10-31T11:02:35Z',\n",
      "                                      'value': 0.03494356811648844},\n",
      "                        'name': 'CX3_4',\n",
      "                        'qubits': [3, 4],\n",
      "                        'type': 'CX'}],\n",
      " 'qubits': [{'gateError': {'date': '2017-10-31T11:02:35Z',\n",
      "                           'value': 0.000858490762927322},\n",
      "             'name': 'Q0',\n",
      "             'readoutError': {'date': '2017-10-31T11:02:35Z', 'value': 0.042}},\n",
      "            {'gateError': {'date': '2017-10-31T11:02:35Z',\n",
      "                           'value': 0.0012019552727863259},\n",
      "             'name': 'Q1',\n",
      "             'readoutError': {'date': '2017-10-31T11:02:35Z', 'value': 0.062}},\n",
      "            {'gateError': {'date': '2017-10-31T11:02:35Z',\n",
      "                           'value': 0.0013737021608475342},\n",
      "             'name': 'Q2',\n",
      "             'readoutError': {'date': '2017-10-31T11:02:35Z', 'value': 0.029}},\n",
      "            {'gateError': {'date': '2017-10-31T11:02:35Z',\n",
      "                           'value': 0.0021466840188233416},\n",
      "             'name': 'Q3',\n",
      "             'readoutError': {'date': '2017-10-31T11:02:35Z', 'value': 0.074}},\n",
      "            {'gateError': {'date': '2017-10-31T11:02:35Z',\n",
      "                           'value': 0.0036932423737144893},\n",
      "             'name': 'Q4',\n",
      "             'readoutError': {'date': '2017-10-31T11:02:35Z', 'value': 0.07}}]}\n"
     ]
    }
   ],
   "source": [
    "pprint(Q_program.get_backend_calibration('ibmqx4'))"
   ]
  },
  {
   "cell_type": "markdown",
   "metadata": {},
   "source": [
    "### Extra information - parameters \n",
    "\n",
    "For the online devices there are extra parameters such as gate times, coherence times, etc  which can be obtained using \n",
    "\n",
    "```Q_program.get_backend_parameters('ibmqx4')```"
   ]
  },
  {
   "cell_type": "code",
   "execution_count": 9,
   "metadata": {},
   "outputs": [
    {
     "name": "stdout",
     "output_type": "stream",
     "text": [
      "{'backend': 'ibmqx4',\n",
      " 'fridge_parameters': {'Temperature': {'date': '2017-10-31T11:02:35Z',\n",
      "                                       'unit': 'K',\n",
      "                                       'value': 0.021},\n",
      "                       'cooldownDate': '2017-09-07'},\n",
      " 'last_update_date': '2017-10-31T11:02:35.000Z',\n",
      " 'qubits': [{'T1': {'date': '2017-10-31T11:02:35Z', 'unit': 'µs', 'value': 42},\n",
      "             'T2': {'date': '2017-10-31T11:02:35Z',\n",
      "                    'unit': 'µs',\n",
      "                    'value': 32.8},\n",
      "             'buffer': {'date': '2017-10-31T11:02:35Z',\n",
      "                        'unit': 'ns',\n",
      "                        'value': 10},\n",
      "             'frequency': {'date': '2017-10-31T11:02:35Z',\n",
      "                           'unit': 'GHz',\n",
      "                           'value': 5.24614},\n",
      "             'gateTime': {'date': '2017-10-31T11:02:35Z',\n",
      "                          'unit': 'ns',\n",
      "                          'value': 50},\n",
      "             'name': 'Q0'},\n",
      "            {'T1': {'date': '2017-10-31T11:02:35Z',\n",
      "                    'unit': 'µs',\n",
      "                    'value': 60.4},\n",
      "             'T2': {'date': '2017-10-31T11:02:35Z',\n",
      "                    'unit': 'µs',\n",
      "                    'value': 45.1},\n",
      "             'buffer': {'date': '2017-10-31T11:02:35Z',\n",
      "                        'unit': 'ns',\n",
      "                        'value': 10},\n",
      "             'frequency': {'date': '2017-10-31T11:02:35Z',\n",
      "                           'unit': 'GHz',\n",
      "                           'value': 5.30262},\n",
      "             'gateTime': {'date': '2017-10-31T11:02:35Z',\n",
      "                          'unit': 'ns',\n",
      "                          'value': 50},\n",
      "             'name': 'Q1'},\n",
      "            {'T1': {'date': '2017-10-31T11:02:35Z',\n",
      "                    'unit': 'µs',\n",
      "                    'value': 47.4},\n",
      "             'T2': {'date': '2017-10-31T11:02:35Z',\n",
      "                    'unit': 'µs',\n",
      "                    'value': 51.3},\n",
      "             'buffer': {'date': '2017-10-31T11:02:35Z',\n",
      "                        'unit': 'ns',\n",
      "                        'value': 10},\n",
      "             'frequency': {'date': '2017-10-31T11:02:35Z',\n",
      "                           'unit': 'GHz',\n",
      "                           'value': 5.35621},\n",
      "             'gateTime': {'date': '2017-10-31T11:02:35Z',\n",
      "                          'unit': 'ns',\n",
      "                          'value': 50},\n",
      "             'name': 'Q2'},\n",
      "            {'T1': {'date': '2017-10-31T11:02:35Z',\n",
      "                    'unit': 'µs',\n",
      "                    'value': 33.4},\n",
      "             'T2': {'date': '2017-10-31T11:02:35Z',\n",
      "                    'unit': 'µs',\n",
      "                    'value': 30.1},\n",
      "             'buffer': {'date': '2017-10-31T11:02:35Z',\n",
      "                        'unit': 'ns',\n",
      "                        'value': 10},\n",
      "             'frequency': {'date': '2017-10-31T11:02:35Z',\n",
      "                           'unit': 'GHz',\n",
      "                           'value': 5.43174},\n",
      "             'gateTime': {'date': '2017-10-31T11:02:35Z',\n",
      "                          'unit': 'ns',\n",
      "                          'value': 50},\n",
      "             'name': 'Q3'},\n",
      "            {'T1': {'date': '2017-10-31T11:02:35Z',\n",
      "                    'unit': 'µs',\n",
      "                    'value': 56.9},\n",
      "             'T2': {'date': '2017-10-31T11:02:35Z',\n",
      "                    'unit': 'µs',\n",
      "                    'value': 22.9},\n",
      "             'buffer': {'date': '2017-10-31T11:02:35Z',\n",
      "                        'unit': 'ns',\n",
      "                        'value': 10},\n",
      "             'frequency': {'date': '2017-10-31T11:02:35Z',\n",
      "                           'unit': 'GHz',\n",
      "                           'value': 5.18248},\n",
      "             'gateTime': {'date': '2017-10-31T11:02:35Z',\n",
      "                          'unit': 'ns',\n",
      "                          'value': 50},\n",
      "             'name': 'Q4'}]}\n"
     ]
    }
   ],
   "source": [
    "pprint(Q_program.get_backend_parameters('ibmqx4'))"
   ]
  },
  {
   "cell_type": "code",
   "execution_count": 1,
   "metadata": {},
   "outputs": [
    {
     "data": {
      "text/html": [
       "<h2>Version information</h2>\n",
       "<p>Please note that this tutorial is targeted to the <b>stable</b> version of the QISKit SDK. The following versions of the packages are recommended:</p>\n",
       "<table>\n",
       "<tr><th>Package</th><th colspan=\"2\">Version</th></tr>\n",
       "<tr><td>QISKit</td><td> 0.4.8</td></tr>\n",
       "<tr><td>IBMQuantumExperience</td><td>&gt;= 1.8.26</td></tr>\n",
       "<tr><td>numpy</td><td>&gt;= 1.13, &lt; 1.14</td></tr>\n",
       "<tr><td>scipy</td><td>&gt;= 0.19, &lt; 0.20</td></tr>\n",
       "<tr><td>matplotlib</td><td>&gt;= 2.0, &lt; 2.1</td></tr>\n",
       "</table>"
      ],
      "text/plain": [
       "<IPython.core.display.HTML object>"
      ]
     },
     "metadata": {},
     "output_type": "display_data"
    }
   ],
   "source": [
    "%run \"../version.ipynb\""
   ]
  },
  {
   "cell_type": "code",
   "execution_count": null,
   "metadata": {
    "collapsed": true
   },
   "outputs": [],
   "source": []
  }
 ],
 "metadata": {
  "anaconda-cloud": {},
  "kernelspec": {
   "display_name": "Python 3",
   "language": "python",
   "name": "python3"
  },
  "language_info": {
   "codemirror_mode": {
    "name": "ipython",
    "version": 3
   },
   "file_extension": ".py",
   "mimetype": "text/x-python",
   "name": "python",
   "nbconvert_exporter": "python",
   "pygments_lexer": "ipython3",
   "version": "3.6.3"
  }
 },
 "nbformat": 4,
 "nbformat_minor": 1
}
