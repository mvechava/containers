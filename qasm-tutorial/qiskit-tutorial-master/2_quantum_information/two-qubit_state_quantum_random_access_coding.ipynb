{
 "cells": [
  {
   "cell_type": "markdown",
   "metadata": {},
   "source": [
    "<img src=\"../images/QISKit-c.gif\" alt=\"Note: In order for images to show up in this jupyter notebook you need to select File => Trusted Notebook\" width=\"250 px\" align=\"left\">"
   ]
  },
  {
   "cell_type": "markdown",
   "metadata": {},
   "source": [
    "## _*Two-qubit Quantum Random Access Coding (QRAC)*_ \n",
    "\n",
    "The latest version of this notebook is available on https://github.com/QISKit/qiskit-tutorial.\n",
    "\n",
    "***\n",
    "### Contributors\n",
    "Rudy Raymond, Takashi Imamichi"
   ]
  },
  {
   "cell_type": "markdown",
   "metadata": {},
   "source": [
    "## Introduction\n",
    "\n",
    "As seen [here](single-qubit_quantum_random_access_coding.ipynb), thanks to the superposition of quantum states, by QRAC a single qubit can be used to encode up to 3 bits $x_1x_2x_3$ of information so that any one bit $x_i$ can be recovered with probability at least $0.78$. What happens if we have more qubits? As more qubits are available, we can go beyond a simple combination of QRAC of individual qubit by leveraging the entanglement. With two qubits, we can clearly use $(3,1)$-QRAC on each qubit and obtain a $(6,2)$-QRAC. Can we encode more bits? The answer is yes. Notice that two classical bits can be used to encode only up to 3 bits of information in the random access coding. \n",
    "\n",
    "We will show a $(7,2)$-QRAC following Example 4 in the paper [here](http://iopscience.iop.org/article/10.1088/1367-2630/8/8/129/meta). The success probability is $0.54$, which is slightly better than random guessing. The $(7,2)$-QRAC in the example uses [*quantum mixed states*](https://en.wikipedia.org/wiki/Quantum_state#Mixed_states) to mix two $(3,1)$-QRACs, for encoding the first six bits $x_1x_2x_3x_4x_5x_6$, with the encoding of the seventh bit $x_7$. Namely, the mixed state contains, with probability $\\alpha \\equiv \\frac{6}{7+\\sqrt{3}}$, two $(3,1)$-QRACs encoding the first six bits, and the encoding of $x_7$ that entangles the first qubit and the second qubit (if $x_7 = 0$, the two qubits become $|00\\rangle + |11\\rangle$, or $|01\\rangle+|10\\rangle$ otherwise) with probability $1 - \\alpha$.\n",
    "\n",
    "The *quantum mixed states* used in the $(7,2)$-QRAC can be created by the sender using a series of unitary operations on three qubits by using the first qubit to control the mixing probability. The sender then sends the last two qubits (the second and third ones) that are used by the receiver to decode his choice of bit. \n",
    "\n",
    "The procedure is as follows. First, the sender prepares three qubits $|000\\rangle$ and transforms them to obtain\n",
    "\n",
    "\\begin{eqnarray}\n",
    "|000\\rangle &\\xrightarrow{U(1.187, 0, 0)}& \\sqrt{\\alpha} |000\\rangle + \\sqrt{1 - \\alpha} |100\\rangle,\n",
    "\\end{eqnarray}\n",
    "\n",
    "where $U(1.187,0,0)$ is the single-qubit rotation gate applied to the first qubit. Notice that $\\cos(1.187/2) \\approx \\sqrt\\alpha$.\n",
    "\n",
    "Next, the sender uses her first qubit to control the value of the second and third qubits. When, the first qubit is $0$, the sender encodes the $x_1x_2x_3$ into the second qubit, and the $x_4x_5x_6$ into the third qubit. This means, she performs the following transformation (note that $V$ is conditioned on $x_1x_2x_3x_4x_5x_6$), \n",
    "\n",
    "\\begin{eqnarray}\n",
    "|000\\rangle &\\xrightarrow{V}& |0\\rangle |\\phi\\left(x_1x_2x_3\\right)\\rangle |\\phi\\left(x_4x_5x_6\\right)\\rangle,\n",
    "\\end{eqnarray}\n",
    "\n",
    "where $|\\phi\\left(xyz\\right)\\rangle$ is the $(3,1)$-QRAC of $xyz$. Otherwise, when the second qubit is $1$, the sender encodes the $x_7$ by using the Bell states. Namely, by entangling the second and the third qubit so that when $x_7 = 0$ the second and third qubits are the same, and when $x_7 = 1$ they are different, as follows. \n",
    "\n",
    "\\begin{eqnarray}\n",
    "|100\\rangle & \\xrightarrow{\\mbox{if}~x_7 = 0} & |1\\rangle\\left( \\frac{1}{\\sqrt{2}}|00\\rangle + \\frac{1}{\\sqrt{2}} |11\\rangle\\right) \\equiv |1\\rangle|\\xi(0)\\rangle \\\\\n",
    "|100\\rangle & \\xrightarrow{\\mbox{if}~x_7 = 1} & |1\\rangle\\left(\\frac{1}{\\sqrt{2}}|01\\rangle + \\frac{1}{\\sqrt{2}} |10\\rangle\\right) \\equiv |1\\rangle|\\xi(1)\\rangle \n",
    "\\end{eqnarray}\n",
    "\n",
    "The second and third qubits are then sent to the receiver, who performs measurement to obtain his desired bit. Notice that because the receiver does not have the first qubit, the state of his two qubits is the mixed state as below\n",
    "\n",
    "$$\n",
    "\\rho\\left(x_1x_2\\ldots x_7\\right) = \\alpha |\\phi\\left(x_1x_2x_3\\right)\\rangle\\langle\\phi\\left(x_1x_2x_3\\right)| \\otimes |\\phi\\left(x_4x_5x_6\\right)\\rangle\\langle\\phi\\left(x_4x_5x_6\\right)|   + (1-\\alpha) |\\xi\\left(x_7\\right)\\rangle\\langle\\xi\\left(x_7\\right)| \n",
    "$$\n",
    "\n",
    "Now, the receiver can recover any one bit of $x_1x_2\\ldots x_7$ as follows. If he wants to obtain any one bit of $x_1x_2x_3$, he measures his first qubit using the measurements of $(3,1)$-QRAC. Similarly, if he wants to obtain any one bit of $x_4x_5x_6$, he measures his second qubit using the measurements of $(3,1)$-QRAC. Finally, if he wants to obtain the seventh bit $x_7$, he measures both qubits and concludes that $x_7 = 0$ if the outcome of the measurement is the same (they are both $0$ or $1$), or $x_7 = 1$ otherwise.\n",
    "\n",
    "Now, we show how to perform the experiment on the above $(7,2)$-QRAC using the IBM Q Experience. We first prepare the environment."
   ]
  },
  {
   "cell_type": "code",
   "execution_count": 1,
   "metadata": {
    "collapsed": true
   },
   "outputs": [],
   "source": [
    "# Checking the version of PYTHON; we only support > 3.5\n",
    "import sys\n",
    "if sys.version_info < (3,5):\n",
    "    raise Exception('Please use Python version 3.5 or greater.')\n",
    "\n",
    "# useful additional packages \n",
    "import matplotlib.pyplot as plt\n",
    "%matplotlib inline\n",
    "import numpy as np\n",
    "\n",
    "# useful math functions\n",
    "from math import pi, cos, acos, sqrt\n",
    "\n",
    "# importing the QISKit\n",
    "from qiskit import QuantumProgram\n",
    "import Qconfig\n",
    "\n",
    "# import basic plot tools\n",
    "from qiskit.tools.visualization import plot_histogram"
   ]
  },
  {
   "cell_type": "markdown",
   "metadata": {},
   "source": [
    "We prepare the controlled-Hadamard and controlled-u3 gates that are required in the encoding as below."
   ]
  },
  {
   "cell_type": "code",
   "execution_count": 2,
   "metadata": {
    "collapsed": true
   },
   "outputs": [],
   "source": [
    "def ch(qProg, a, b):\n",
    "    \"\"\" Controlled-Hadamard gate \"\"\"\n",
    "    qProg.h(b)\n",
    "    qProg.sdg(b)\n",
    "    qProg.cx(a, b)\n",
    "    qProg.h(b)\n",
    "    qProg.t(b)\n",
    "    qProg.cx(a, b)\n",
    "    qProg.t(b)\n",
    "    qProg.h(b)\n",
    "    qProg.s(b)\n",
    "    qProg.x(b)\n",
    "    qProg.s(a)\n",
    "    return qProg\n",
    "\n",
    "def cu3(qProg, theta, phi, lambd, c, t):\n",
    "    \"\"\" Controlled-u3 gate \"\"\"\n",
    "    qProg.u1((lambd-phi)/2, t)\n",
    "    qProg.cx(c, t)\n",
    "    qProg.u3(-theta/2, 0, -(phi+lambd)/2, t)\n",
    "    qProg.cx(c, t)\n",
    "    qProg.u3(theta/2, phi, 0, t)\n",
    "    return qProg"
   ]
  },
  {
   "cell_type": "markdown",
   "metadata": {},
   "source": [
    "## Encoding 7 bits into 2 qubits with $(7,2)$-QRAC\n",
    "\n",
    "The sender prepares the state to be sent by working on 3 qubits and uses the first one to control the mixture. She needs controlled unitary gates of $(3,1)$-QRAC encoding for her first 6 bits. When the first qubit is zero, she encodes $x_1x_2x_3$ into the second qubit, and $x_4x_5x_6$ into the third qubit. This can be realized with NOT on the first qubit followed by controlled $(3,1)$-QRAC gates with the first qubit as control and the second and third qubits as targets.\n",
    "\n",
    "To encode $x_7$, when $x_7 = 0$ the sender applies a controlled Hadamard on the second qubit (with the first qubit as control), and apply Toffoli gate on the third qubit using the first and second qubits as controls. When $x_7 = 1$, the sender flips the second and third qubits before applying the same operations as when $x_7 = 0$. \n",
    "\n",
    "The decoding operations are the same as those of $(3,1)$-QRAC, and for encoding $x_7$, the receiver just measures the value of the second and third qubit on the computational basis.  \n",
    "\n",
    "Below is the quantum circuits for encoding `\"0101010\"` and decoding any one bit with $(7,2)$-QRAC.  "
   ]
  },
  {
   "cell_type": "code",
   "execution_count": 3,
   "metadata": {
    "collapsed": false
   },
   "outputs": [
    {
     "name": "stdout",
     "output_type": "stream",
     "text": [
      "List of circuit names: ['Encode0101010DecodeFirst', 'Encode0101010DecodeSecond', 'Encode0101010DecodeThird', 'Encode0101010DecodeFourth', 'Encode0101010DecodeFifth', 'Encode0101010DecodeSixth', 'Encode0101010DecodeSeventh']\n"
     ]
    }
   ],
   "source": [
    "#CHANGE THIS 7BIT 0-1 STRING TO PERFORM EXPERIMENT ON ENCODING 0000000, ..., 1111111\n",
    "x1234567 = \"0101010\"\n",
    "\n",
    "if len(x1234567) != 7 or not(\"1\" in x1234567 or \"0\" in x1234567):\n",
    "    raise Exception(\"x1234567 is a 7-bit 0-1 pattern. Please set it to the correct pattern\")\n",
    "    \n",
    "#compute the value of rotation angle theta of (3,1)-QRAC \n",
    "theta = acos(sqrt(0.5 + sqrt(3.0)/6.0))\n",
    "\n",
    "#to record the u3 parameters for encoding 000, 010, 100, 110, 001, 011, 101, 111\n",
    "rotationParams = {\"000\":(2*theta, pi/4, -pi/4), \"010\":(2*theta, 3*pi/4, -3*pi/4), \n",
    "                  \"100\":(pi-2*theta, pi/4, -pi/4), \"110\":(pi-2*theta, 3*pi/4, -3*pi/4), \n",
    "                  \"001\":(2*theta, -pi/4, pi/4), \"011\":(2*theta, -3*pi/4, 3*pi/4), \n",
    "                  \"101\":(pi-2*theta, -pi/4, pi/4), \"111\":(pi-2*theta, -3*pi/4, 3*pi/4)}\n",
    "\n",
    "Q_program = QuantumProgram()\n",
    "Q_program.set_api(Qconfig.APItoken, Qconfig.config[\"url\"]) # set the APIToken and API url\n",
    "\n",
    "# Creating registers\n",
    "# qubits for encoding 7 bits of information with qr[0] kept by the sender\n",
    "qr = Q_program.create_quantum_register(\"qr\", 3)\n",
    "# bits for recording the measurement of the qubits qr[1] and qr[2]\n",
    "cr = Q_program.create_classical_register(\"cr\", 2)\n",
    "\n",
    "encodingName = \"Encode\"+x1234567\n",
    "encodingCircuit = Q_program.create_circuit(encodingName, [qr], [cr])\n",
    "\n",
    "#Prepare superposition of mixing QRACs of x1...x6 and x7\n",
    "encodingCircuit.u3(1.187, 0, 0, qr[0])\n",
    "\n",
    "#Encoding the seventh bit\n",
    "seventhBit = x1234567[6]\n",
    "if seventhBit == \"1\":  #copy qr[0] into qr[1] and qr[2]\n",
    "    encodingCircuit.cx(qr[0], qr[1])\n",
    "    encodingCircuit.cx(qr[0], qr[2])\n",
    "    \n",
    "#perform controlled-Hadamard qr[0], qr[1], and toffoli qr[0], qr[1] , qr[2]\n",
    "encodingCircuit = ch(encodingCircuit, qr[0], qr[1])\n",
    "encodingCircuit.ccx(qr[0], qr[1], qr[2])\n",
    "#End of encoding the seventh bit\n",
    "\n",
    "#encode x1...x6 with two (3,1)-QRACS. To do that, we must flip q[0] so that the controlled encoding is executed\n",
    "encodingCircuit.x(qr[0])\n",
    "\n",
    "#Encoding the first 3 bits 000, ..., 111 into the second qubit, i.e., (3,1)-QRAC on the second qubit\n",
    "firstThreeBits = x1234567[0:3]\n",
    "#encodingCircuit.cu3(*rotationParams[firstThreeBits], qr[0], qr[1])\n",
    "encodingCircuit = cu3(encodingCircuit, *rotationParams[firstThreeBits], qr[0], qr[1])\n",
    "\n",
    "#Encoding the second 3 bits 000, ..., 111 into the third qubit, i.e., (3,1)-QRAC on the third qubit\n",
    "secondThreeBits = x1234567[3:6]\n",
    "#encodingCircuit.cu3(*rotationParams[secondTreeBits], qr[0], qr[2])\n",
    "encodingCircuit = cu3(encodingCircuit, *rotationParams[secondThreeBits], qr[0], qr[2])\n",
    "\n",
    "#end of encoding\n",
    "encodingCircuit.barrier()\n",
    "\n",
    "# dictionary for decoding circuits\n",
    "decodingCircuits = {}\n",
    "# Quantum circuits for decoding the 1st to 6th bits\n",
    "for i, pos in enumerate([\"First\", \"Second\", \"Third\", \"Fourth\", \"Fifth\", \"Sixth\"]):\n",
    "    circuitName = \"Decode\"+pos\n",
    "    decodingCircuits[circuitName] = Q_program.create_circuit(circuitName, [qr], [cr])\n",
    "    if i < 3: #measure 1st, 2nd, 3rd bit\n",
    "        if pos == \"Second\": #if pos == \"First\" we can directly measure\n",
    "            decodingCircuits[circuitName].h(qr[1])\n",
    "        elif pos == \"Third\":\n",
    "            decodingCircuits[circuitName].u3(pi/2, -pi/2, pi/2, qr[1])\n",
    "        decodingCircuits[circuitName].measure(qr[1], cr[1])\n",
    "    else: #measure 4th, 5th, 6th bit\n",
    "        if pos == \"Fifth\": #if pos == \"Fourth\" we can directly measure\n",
    "            decodingCircuits[circuitName].h(qr[2])\n",
    "        elif pos == \"Sixth\":\n",
    "            decodingCircuits[circuitName].u3(pi/2, -pi/2, pi/2, qr[2])\n",
    "        decodingCircuits[circuitName].measure(qr[2], cr[1])\n",
    "\n",
    "        #Quantum circuits for decoding the 7th bit\n",
    "decodingCircuits[\"DecodeSeventh\"] = Q_program.create_circuit(\"DecodeSeventh\", [qr], [cr])\n",
    "decodingCircuits[\"DecodeSeventh\"].measure(qr[1], cr[0])\n",
    "decodingCircuits[\"DecodeSeventh\"].measure(qr[2], cr[1])\n",
    "\n",
    "#combine encoding and decoding of (7,2)-QRACs to get a list of complete circuits\n",
    "circuitNames = []\n",
    "k1 = encodingName\n",
    "for k2 in decodingCircuits.keys():\n",
    "    circuitNames.append(k1+k2)\n",
    "    Q_program.add_circuit(k1+k2, encodingCircuit+decodingCircuits[k2])\n",
    "\n",
    "print(\"List of circuit names:\", circuitNames) #list of circuit names\n",
    "#Q_program.get_qasms(circuitNames) #list qasms codes"
   ]
  },
  {
   "cell_type": "markdown",
   "metadata": {},
   "source": [
    "Below are plots of the experimental results of extracting the first to sixth bit, that results in observing the-$i$th bit with probability at least $0.54$ "
   ]
  },
  {
   "cell_type": "code",
   "execution_count": 4,
   "metadata": {
    "collapsed": false
   },
   "outputs": [
    {
     "name": "stdout",
     "output_type": "stream",
     "text": [
      "Experimental Result of  Encode0101010DecodeFirst\n"
     ]
    },
    {
     "data": {
      "image/png": "[encoded data removed]",
      "text/plain": [
       "<matplotlib.figure.Figure at 0x10955e0f0>"
      ]
     },
     "metadata": {},
     "output_type": "display_data"
    },
    {
     "name": "stdout",
     "output_type": "stream",
     "text": [
      "Experimental Result of  Encode0101010DecodeSecond\n"
     ]
    },
    {
     "data": {
      "image/png": "[encoded data removed]",
      "text/plain": [
       "<matplotlib.figure.Figure at 0x10955e7f0>"
      ]
     },
     "metadata": {},
     "output_type": "display_data"
    },
    {
     "name": "stdout",
     "output_type": "stream",
     "text": [
      "Experimental Result of  Encode0101010DecodeThird\n"
     ]
    },
    {
     "data": {
      "image/png": "[encoded data removed]",
      "text/plain": [
       "<matplotlib.figure.Figure at 0x1093ba358>"
      ]
     },
     "metadata": {},
     "output_type": "display_data"
    },
    {
     "name": "stdout",
     "output_type": "stream",
     "text": [
      "Experimental Result of  Encode0101010DecodeFourth\n"
     ]
    },
    {
     "data": {
      "image/png": "[encoded data removed]",
      "text/plain": [
       "<matplotlib.figure.Figure at 0x10906c908>"
      ]
     },
     "metadata": {},
     "output_type": "display_data"
    },
    {
     "name": "stdout",
     "output_type": "stream",
     "text": [
      "Experimental Result of  Encode0101010DecodeFifth\n"
     ]
    },
    {
     "data": {
      "image/png": "[encoded data removed]",
      "text/plain": [
       "<matplotlib.figure.Figure at 0x109341e48>"
      ]
     },
     "metadata": {},
     "output_type": "display_data"
    },
    {
     "name": "stdout",
     "output_type": "stream",
     "text": [
      "Experimental Result of  Encode0101010DecodeSixth\n"
     ]
    },
    {
     "data": {
      "image/png": "[encoded data removed]",
      "text/plain": [
       "<matplotlib.figure.Figure at 0x1085aafd0>"
      ]
     },
     "metadata": {},
     "output_type": "display_data"
    }
   ],
   "source": [
    "backend = \"local_qasm_simulator\"\n",
    "#backend = \"ibmqx2\"\n",
    "shots = 1000\n",
    "results = Q_program.execute(circuitNames, backend=backend, shots=shots)\n",
    "for k in [\"DecodeFirst\", \"DecodeSecond\", \"DecodeThird\", \"DecodeFourth\", \"DecodeFifth\", \"DecodeSixth\"]:\n",
    "    print(\"Experimental Result of \", encodingName+k)\n",
    "    plot_histogram(results.get_counts(encodingName+k))"
   ]
  },
  {
   "cell_type": "markdown",
   "metadata": {},
   "source": [
    "The seventh bit is obtained by looking at the content of classical registers. If they are the same, i.e., both are `1` or `0`, then we conclude that it is `0`, or otherwise `1`. For the encoding of `0101010`, the seventh bit is `0`, so the total probability of observing `00` and `11` must exceed that of observing `01` and `10`. "
   ]
  },
  {
   "cell_type": "code",
   "execution_count": 5,
   "metadata": {
    "collapsed": false,
    "scrolled": true
   },
   "outputs": [
    {
     "name": "stdout",
     "output_type": "stream",
     "text": [
      "Experimental result of  Encode0101010DecodeSeventh\n"
     ]
    },
    {
     "data": {
      "image/png": "[encoded data removed]",
      "text/plain": [
       "<matplotlib.figure.Figure at 0x1084bda58>"
      ]
     },
     "metadata": {},
     "output_type": "display_data"
    }
   ],
   "source": [
    "print(\"Experimental result of \", encodingName+\"DecodeSeventh\")\n",
    "plot_histogram(results.get_counts(encodingName+\"DecodeSeventh\"))"
   ]
  },
  {
   "cell_type": "markdown",
   "metadata": {},
   "source": [
    "We can experiment with other seven-bit encodings by changing the value `x1234567` in the code above, and see that in any case we can decode the correct bit with probability strictly better than random guessing. "
   ]
  },
  {
   "cell_type": "markdown",
   "metadata": {},
   "source": [
    "## About Quantum Random Access Coding\n",
    "The success probability $(7,2)$-QRAC shown above is not high due to the use of mixed states. There exists a better code using pure states as shown [here](https://arxiv.org/abs/1607.02667), where the success probability becomes $0.68$. [The paper](https://arxiv.org/abs/1607.02667) also shows the construction of $(n,2)$-QRACs with pure states for $n=7,\\ldots,12$. It is still open if there is a coding scheme with only pure states for $n=13, 14, 15$. Notice that $(n, m)$-QRACs exist for $ n \\le 2^{2m}-1$ that can be realized with mixed states as shown [here](http://link.springer.com/chapter/10.1007/978-3-540-73420-8_12)."
   ]
  },
  {
   "cell_type": "code",
   "execution_count": 1,
   "metadata": {},
   "outputs": [
    {
     "data": {
      "text/html": [
       "<h2>Version information</h2>\n",
       "<p>Please note that this tutorial is targeted to the <b>stable</b> version of the QISKit SDK. The following versions of the packages are recommended:</p>\n",
       "<table>\n",
       "<tr><th>Package</th><th colspan=\"2\">Version</th></tr>\n",
       "<tr><td>QISKit</td><td> 0.4.8</td></tr>\n",
       "<tr><td>IBMQuantumExperience</td><td>&gt;= 1.8.26</td></tr>\n",
       "<tr><td>numpy</td><td>&gt;= 1.13, &lt; 1.14</td></tr>\n",
       "<tr><td>scipy</td><td>&gt;= 0.19, &lt; 0.20</td></tr>\n",
       "<tr><td>matplotlib</td><td>&gt;= 2.0, &lt; 2.1</td></tr>\n",
       "</table>"
      ],
      "text/plain": [
       "<IPython.core.display.HTML object>"
      ]
     },
     "metadata": {},
     "output_type": "display_data"
    }
   ],
   "source": [
    "%run \"../version.ipynb\""
   ]
  },
  {
   "cell_type": "code",
   "execution_count": null,
   "metadata": {
    "collapsed": true
   },
   "outputs": [],
   "source": []
  }
 ],
 "metadata": {
  "anaconda-cloud": {},
  "kernelspec": {
   "display_name": "Python 3",
   "language": "python",
   "name": "python3"
  },
  "language_info": {
   "codemirror_mode": {
    "name": "ipython",
    "version": 3
   },
   "file_extension": ".py",
   "mimetype": "text/x-python",
   "name": "python",
   "nbconvert_exporter": "python",
   "pygments_lexer": "ipython3",
   "version": "3.6.0"
  }
 },
 "nbformat": 4,
 "nbformat_minor": 1
}
